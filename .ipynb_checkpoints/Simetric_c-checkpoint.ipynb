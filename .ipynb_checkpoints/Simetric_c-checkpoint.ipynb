{
 "cells": [
  {
   "cell_type": "markdown",
   "id": "a2cbab85-5d3b-4a0d-8f51-024cd358e04c",
   "metadata": {},
   "source": [
    "# Cifrado por corrimiento"
   ]
  },
  {
   "cell_type": "markdown",
   "id": "8d9863e1-3389-450f-bda2-c7919cf53a48",
   "metadata": {},
   "source": [
    "Para revisar que los caracteres sean letras, se usa una función `isalpha()`"
   ]
  },
  {
   "cell_type": "code",
   "execution_count": null,
   "id": "2d19c898-9570-4c13-bb43-2dcb3bd1b885",
   "metadata": {},
   "outputs": [],
   "source": [
    "letras = \"a\"\n",
    "\n",
    "letras.isalpha()\n"
   ]
  },
  {
   "cell_type": "markdown",
   "id": "3edb2300-07e8-4140-94d5-aad73c2a635c",
   "metadata": {},
   "source": [
    "**Calcular la base para mayúsculas o minúsculas:**\n",
    "\n",
    "Para manejar mayúsculas y minúsculas de manera adecuada, calculamos un valor base:\n",
    "\n",
    "* Mayúsculas: El código ASCII de la 'A' es 65, por lo que usamos 65 como la base para mayúsculas.\n",
    "* Minúsculas: El código ASCII de la 'a' es 97, por lo que usamos 97 como la base para minúsculas.\n",
    "\n",
    "Esta base nos permite calcular el desplazamiento dentro del rango correcto (mayúsculas o minúsculas).\n"
   ]
  },
  {
   "cell_type": "code",
   "execution_count": null,
   "id": "9b725434-bb32-4714-80f8-027a9af3b260",
   "metadata": {},
   "outputs": [],
   "source": [
    "desplazamiento_base = 65 if i.isupper() else 97"
   ]
  },
  {
   "cell_type": "markdown",
   "id": "ca06aafd-093f-4fa4-a48b-5475adfcab1c",
   "metadata": {},
   "source": [
    "**Aplicar el desplazamiento a la letra**\n",
    "\n",
    "Utilizamos las siguientes funciones para realizar el cifrado:\n",
    "\n",
    "- `ord(i)`: Convierte el carácter i en su código ASCII (por ejemplo, ord('A') da 65).\n",
    "- Restamos el valor base (65 para mayúsculas o 97 para minúsculas) para alinear el código ASCII con el índice del alfabeto (de 0 a 25).\n",
    "- Sumamos el desplazamiento que se pasa como argumento.\n",
    "- Usamos el operador % 26 para asegurarnos de que el valor sigue dentro del rango de 0 a 25 (el alfabeto tiene 26 letras).\n",
    "- Finalmente, sumamos el valor base de nuevo para convertir el resultado en un código ASCII válido y usamos `chr()` para convertirlo de nuevo en una letra."
   ]
  },
  {
   "cell_type": "code",
   "execution_count": null,
   "id": "0da767d9-3d03-4b97-b10f-0de7ca608938",
   "metadata": {},
   "outputs": [],
   "source": [
    "resultado += chr((ord(i) - desplazamiento_base + desplazamiento) % 26 + desplazamiento_base)"
   ]
  },
  {
   "cell_type": "markdown",
   "id": "219df431-ae52-43f6-a3a2-30d6bbf8a3a2",
   "metadata": {},
   "source": [
    "Si el carácter no es una letra (por ejemplo, si es un espacio, número o signo de puntuación), simplemente lo añadimos al resultado sin modificarlo."
   ]
  },
  {
   "cell_type": "code",
   "execution_count": 9,
   "id": "3676028e-fd62-4958-9656-3baa7d6a3251",
   "metadata": {},
   "outputs": [],
   "source": [
    "def cifrado_corrimiento(texto, desplazamiento):\n",
    "    resultado = \"\"\n",
    "    for i in texto:\n",
    "        if i.isalpha():  # Verifica si el carácter es una letra\n",
    "            desplazamiento_base = 65 if i.isupper() else 97  # Define el valor base para mayúsculas o minúsculas\n",
    "            resultado += chr((ord(i) - desplazamiento_base + desplazamiento) % 26 + desplazamiento_base)\n",
    "        else:\n",
    "            resultado += i  # Deja los caracteres que no son letras sin cambios\n",
    "    return resultado"
   ]
  },
  {
   "cell_type": "code",
   "execution_count": 10,
   "id": "cbea31bb-d11c-49d6-998c-6a4d9634b3cf",
   "metadata": {},
   "outputs": [
    {
     "name": "stdout",
     "output_type": "stream",
     "text": [
      "Krod Pxqgr!\n"
     ]
    }
   ],
   "source": [
    "texto = \"Hola Mundo!\"\n",
    "desplazamiento = 3\n",
    "print(cifrado_corrimiento(texto, desplazamiento))"
   ]
  },
  {
   "cell_type": "markdown",
   "id": "67cbc633-a8f8-4ad6-af24-ec49841ebaef",
   "metadata": {},
   "source": [
    "# Cifrado por sustitución"
   ]
  },
  {
   "cell_type": "markdown",
   "id": "2e50dbca-59e3-4256-990f-890318a48eb6",
   "metadata": {},
   "source": [
    "**Definir el alfabeto estándar**\n",
    "\n",
    "Definimos la variable alfabeto, que contiene las 26 letras del alfabeto en mayúsculas. Este alfabeto es lo que se utilizará como referencia para saber qué letra se debe reemplazar según la clave de sustitución."
   ]
  },
  {
   "cell_type": "code",
   "execution_count": 11,
   "id": "9539869d-bc95-42dd-9aa4-1405b2b923fd",
   "metadata": {},
   "outputs": [],
   "source": [
    "alfabeto = \"ABCDEFGHIJKLMNOPQRSTUVWXYZ\""
   ]
  },
  {
   "cell_type": "markdown",
   "id": "5b7a5c09-8e6b-43a3-8bb3-4bb99bb1b76d",
   "metadata": {},
   "source": [
    "**Convertir el texto a mayúsculas y recorrer cada letra**\n",
    "\n",
    "Se usa un bucle for para recorrer cada carácter del texto. Antes de procesar cada letra, vamos a convertir el texto a mayúsculas con `texto.upper()`. Esto garantiza que no haya diferencias entre mayúsculas y minúsculas, y que todas las letras coincidan con el alfabeto que hemos definido."
   ]
  },
  {
   "cell_type": "markdown",
   "id": "fa671e4f-de42-4db1-8305-9d7f569c29e8",
   "metadata": {},
   "source": [
    "**Buscar el índice de la letra en el alfabeto**\n",
    "\n",
    "Cuando el carácter i es una letra, buscamos su posición en el alfabeto estándar usando `alfabeto.index(i)`. Esto nos da el índice de la letra en el alfabeto, que nos sirve para encontrar la letra correspondiente en la clave de sustitución.\n",
    "\n",
    "Por ejemplo, si i = 'A', entonces alfabeto.index('A') devolvería 0, ya que 'A' es la primera letra del alfabeto (índice 0)."
   ]
  },
  {
   "cell_type": "markdown",
   "id": "c31d7294-7346-4a49-ae51-c70716fdde0b",
   "metadata": {},
   "source": [
    "**Reemplazar la letra con la correspondiente en la clave**\n",
    "\n",
    "Después de encontrar el índice de la letra en el alfabeto estándar, usamos ese índice para obtener la letra correspondiente en la clave de sustitución. Por ejemplo, si el índice es 0, la letra será la primera letra de la clave de sustitución."
   ]
  },
  {
   "cell_type": "markdown",
   "id": "1aa12f78-2496-494e-a23c-d0bbc8ba419a",
   "metadata": {},
   "source": [
    "**Manejar caracteres que no son letras**\n",
    "\n",
    "Si el carácter i no está en el alfabeto (es decir, no es una letra), simplemente lo agregamos a resultado sin cambiarlo. Esto asegura que espacios, números, y otros símbolos no se vean afectados por el cifrado."
   ]
  },
  {
   "cell_type": "code",
   "execution_count": 13,
   "id": "35fe6b90-cb4d-4cf5-9cd4-80fae6767d72",
   "metadata": {},
   "outputs": [],
   "source": [
    "def cifrado_sustitucion(texto, clave):\n",
    "    alfabeto = \"ABCDEFGHIJKLMNOPQRSTUVWXYZ\"\n",
    "    resultado = \"\"\n",
    "    for i in texto.upper():\n",
    "        if i in alfabeto:\n",
    "            resultado += clave[alfabeto.index(i)]\n",
    "        else:\n",
    "            resultado += i  # Dejar otros caracteres sin cambios\n",
    "    return resultado"
   ]
  },
  {
   "cell_type": "code",
   "execution_count": 14,
   "id": "8278f8af-bdb5-4907-a40a-460467f78280",
   "metadata": {},
   "outputs": [
    {
     "name": "stdout",
     "output_type": "stream",
     "text": [
      "IGSQ DXFRG!\n"
     ]
    }
   ],
   "source": [
    "texto = \"Hola Mundo!\"\n",
    "clave = \"QWERTYUIOPASDFGHJKLZXCVBNM\"\n",
    "print(cifrado_sustitucion(texto, clave))"
   ]
  },
  {
   "cell_type": "code",
   "execution_count": null,
   "id": "4f0bea58-f215-487f-88e3-ed7cf5c71d45",
   "metadata": {},
   "outputs": [],
   "source": []
  }
 ],
 "metadata": {
  "kernelspec": {
   "display_name": "Python 3 (ipykernel)",
   "language": "python",
   "name": "python3"
  },
  "language_info": {
   "codemirror_mode": {
    "name": "ipython",
    "version": 3
   },
   "file_extension": ".py",
   "mimetype": "text/x-python",
   "name": "python",
   "nbconvert_exporter": "python",
   "pygments_lexer": "ipython3",
   "version": "3.10.10"
  }
 },
 "nbformat": 4,
 "nbformat_minor": 5
}
