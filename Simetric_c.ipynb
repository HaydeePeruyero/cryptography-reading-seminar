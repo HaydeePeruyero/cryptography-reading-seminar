{
 "cells": [
  {
   "cell_type": "markdown",
   "id": "a2cbab85-5d3b-4a0d-8f51-024cd358e04c",
   "metadata": {},
   "source": [
    "# Cifrado por corrimiento"
   ]
  },
  {
   "cell_type": "markdown",
   "id": "8d9863e1-3389-450f-bda2-c7919cf53a48",
   "metadata": {},
   "source": [
    "Para revisar que los caracteres sean letras, se usa una función `isalpha()`"
   ]
  },
  {
   "cell_type": "code",
   "execution_count": null,
   "id": "2d19c898-9570-4c13-bb43-2dcb3bd1b885",
   "metadata": {},
   "outputs": [],
   "source": [
    "letras = \"a\"\n",
    "\n",
    "letras.isalpha()"
   ]
  },
  {
   "cell_type": "markdown",
   "id": "3edb2300-07e8-4140-94d5-aad73c2a635c",
   "metadata": {},
   "source": [
    "**Calcular la base para mayúsculas o minúsculas:**\n",
    "\n",
    "Para manejar mayúsculas y minúsculas de manera adecuada, calculamos un valor base:\n",
    "\n",
    "* Mayúsculas: El código ASCII de la 'A' es 65, por lo que usamos 65 como la base para mayúsculas.\n",
    "* Minúsculas: El código ASCII de la 'a' es 97, por lo que usamos 97 como la base para minúsculas.\n",
    "\n",
    "Esta base nos permite calcular el desplazamiento dentro del rango correcto (mayúsculas o minúsculas).\n"
   ]
  },
  {
   "cell_type": "code",
   "execution_count": null,
   "id": "9b725434-bb32-4714-80f8-027a9af3b260",
   "metadata": {},
   "outputs": [],
   "source": [
    "desplazamiento_base = 65 if i.isupper() else 97"
   ]
  },
  {
   "cell_type": "markdown",
   "id": "ca06aafd-093f-4fa4-a48b-5475adfcab1c",
   "metadata": {},
   "source": [
    "**Aplicar el desplazamiento a la letra**\n",
    "\n",
    "Utilizamos las siguientes funciones para realizar el cifrado:\n",
    "\n",
    "- `ord(i)`: Convierte el carácter i en su código ASCII (por ejemplo, ord('A') da 65).\n",
    "- Restamos el valor base (65 para mayúsculas o 97 para minúsculas) para alinear el código ASCII con el índice del alfabeto (de 0 a 25).\n",
    "- Sumamos el desplazamiento que se pasa como argumento.\n",
    "- Usamos el operador % 26 para asegurarnos de que el valor sigue dentro del rango de 0 a 25 (el alfabeto tiene 26 letras).\n",
    "- Finalmente, sumamos el valor base de nuevo para convertir el resultado en un código ASCII válido y usamos `chr()` para convertirlo de nuevo en una letra."
   ]
  },
  {
   "cell_type": "code",
   "execution_count": null,
   "id": "0da767d9-3d03-4b97-b10f-0de7ca608938",
   "metadata": {},
   "outputs": [],
   "source": [
    "resultado += chr((ord(i) - desplazamiento_base + desplazamiento) % 26 + desplazamiento_base)"
   ]
  },
  {
   "cell_type": "markdown",
   "id": "219df431-ae52-43f6-a3a2-30d6bbf8a3a2",
   "metadata": {},
   "source": [
    "Si el carácter no es una letra (por ejemplo, si es un espacio, número o signo de puntuación), simplemente lo añadimos al resultado sin modificarlo."
   ]
  },
  {
   "cell_type": "code",
   "execution_count": 1,
   "id": "3676028e-fd62-4958-9656-3baa7d6a3251",
   "metadata": {},
   "outputs": [],
   "source": [
    "def cifrado_corrimiento(texto, desplazamiento):\n",
    "    resultado = \"\"\n",
    "    for i in texto:\n",
    "        if i.isalpha():  # Verifica si el carácter es una letra\n",
    "            desplazamiento_base = 65 if i.isupper() else 97  # Define el valor base para mayúsculas o minúsculas\n",
    "            resultado += chr((ord(i) - desplazamiento_base + desplazamiento) % 26 + desplazamiento_base)\n",
    "        else:\n",
    "            resultado += i  # Deja los caracteres que no son letras sin cambios\n",
    "    return resultado"
   ]
  },
  {
   "cell_type": "code",
   "execution_count": 2,
   "id": "dbf2f689-af39-4afd-b05f-4f5b6d73b457",
   "metadata": {},
   "outputs": [
    {
     "data": {
      "text/plain": [
       "'zllhk://yalzmt.uge/ZsqvwwHwjmqwjg/ujqhlgyjshzq-jwsvafy-kweafsj'"
      ]
     },
     "execution_count": 2,
     "metadata": {},
     "output_type": "execute_result"
    }
   ],
   "source": [
    "cifrado_corrimiento('https://github.com/HaydeePeruyero/cryptography-reading-seminar', 18)"
   ]
  },
  {
   "cell_type": "code",
   "execution_count": 10,
   "id": "cbea31bb-d11c-49d6-998c-6a4d9634b3cf",
   "metadata": {},
   "outputs": [
    {
     "name": "stdout",
     "output_type": "stream",
     "text": [
      "Krod Pxqgr!\n"
     ]
    }
   ],
   "source": [
    "texto = \"Hola Mundo!\"\n",
    "desplazamiento = 3\n",
    "print(cifrado_corrimiento(texto, desplazamiento))"
   ]
  },
  {
   "cell_type": "code",
   "execution_count": 15,
   "id": "dde84c75-18ff-468a-85ae-23e12f526e07",
   "metadata": {},
   "outputs": [],
   "source": [
    "def descifrado_corrimiento(texto_cifrado, desplazamiento):\n",
    "    resultado = \"\"\n",
    "    for i in texto_cifrado:\n",
    "        if i.isalpha():  # Solo letras\n",
    "            if i.isupper():\n",
    "                # Si es mayúscula\n",
    "                resultado += chr((ord(i) - 65 - desplazamiento) % 26 + 65)\n",
    "            else:\n",
    "                # Si es minúscula\n",
    "                resultado += chr((ord(i) - 97 - desplazamiento) % 26 + 97)\n",
    "        else:\n",
    "            # Caracteres que no son letras permanecen igual\n",
    "            resultado += i\n",
    "    return resultado\n"
   ]
  },
  {
   "cell_type": "code",
   "execution_count": 17,
   "id": "4dee0c6a-c4f9-4f52-af78-918b1ed81246",
   "metadata": {},
   "outputs": [
    {
     "name": "stdout",
     "output_type": "stream",
     "text": [
      "Mensaje descifrado: Hola Mundo!\n"
     ]
    }
   ],
   "source": [
    "# Mensaje cifrado con corrimiento (desplazamiento de 3)\n",
    "mensaje_cifrado = \"Krod Pxqgr!\"\n",
    "desplazamiento = 3\n",
    "\n",
    "# Usamos la función para descifrar\n",
    "mensaje_descifrado = descifrado_corrimiento(mensaje_cifrado, desplazamiento)\n",
    "print(\"Mensaje descifrado:\", mensaje_descifrado)\n"
   ]
  }
 ],
 "metadata": {
  "kernelspec": {
   "display_name": "Python 3 (ipykernel)",
   "language": "python",
   "name": "python3"
  },
  "language_info": {
   "codemirror_mode": {
    "name": "ipython",
    "version": 3
   },
   "file_extension": ".py",
   "mimetype": "text/x-python",
   "name": "python",
   "nbconvert_exporter": "python",
   "pygments_lexer": "ipython3",
   "version": "3.10.10"
  }
 },
 "nbformat": 4,
 "nbformat_minor": 5
}
