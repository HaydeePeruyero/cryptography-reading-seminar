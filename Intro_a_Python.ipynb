{
 "cells": [
  {
   "cell_type": "markdown",
   "id": "073b66b6-2b5a-45c3-a2d7-bb5973d3a27e",
   "metadata": {},
   "source": [
    "# Introducción a Python"
   ]
  },
  {
   "cell_type": "code",
   "execution_count": 1,
   "id": "e2f469e2-7335-4cf4-824f-34c8e80769af",
   "metadata": {},
   "outputs": [
    {
     "name": "stdout",
     "output_type": "stream",
     "text": [
      "\n",
      "Here is a list of the Python keywords.  Enter any keyword to get more help.\n",
      "\n",
      "False               class               from                or\n",
      "None                continue            global              pass\n",
      "True                def                 if                  raise\n",
      "and                 del                 import              return\n",
      "as                  elif                in                  try\n",
      "assert              else                is                  while\n",
      "async               except              lambda              with\n",
      "await               finally             nonlocal            yield\n",
      "break               for                 not                 \n",
      "\n"
     ]
    }
   ],
   "source": [
    "help(\"keywords\")"
   ]
  },
  {
   "cell_type": "code",
   "execution_count": 2,
   "id": "230c35e1-1610-48b1-804b-1af15b108c51",
   "metadata": {},
   "outputs": [
    {
     "name": "stdout",
     "output_type": "stream",
     "text": [
      "10\n"
     ]
    }
   ],
   "source": [
    "numero_entero = 10\n",
    "print(numero_entero)"
   ]
  },
  {
   "cell_type": "code",
   "execution_count": 3,
   "id": "422c1a38-a20f-4ded-a147-15de8c419132",
   "metadata": {},
   "outputs": [
    {
     "data": {
      "text/plain": [
       "10"
      ]
     },
     "execution_count": 3,
     "metadata": {},
     "output_type": "execute_result"
    }
   ],
   "source": [
    "numero_entero"
   ]
  },
  {
   "cell_type": "code",
   "execution_count": 5,
   "id": "4794a153-8e9a-4817-bd93-7f7480eb5b0a",
   "metadata": {},
   "outputs": [
    {
     "name": "stdout",
     "output_type": "stream",
     "text": [
      "10\n",
      "15\n",
      "20\n"
     ]
    }
   ],
   "source": [
    "a = 10\n",
    "b = 15\n",
    "c = 20\n",
    "\n",
    "print(a)\n",
    "print(b)\n",
    "print(c)"
   ]
  },
  {
   "cell_type": "code",
   "execution_count": 7,
   "id": "ca67d573-ade9-4ba7-a9aa-9204ae995eca",
   "metadata": {},
   "outputs": [
    {
     "data": {
      "text/plain": [
       "1.5"
      ]
     },
     "execution_count": 7,
     "metadata": {},
     "output_type": "execute_result"
    }
   ],
   "source": [
    "numero_flotante = 1.5\n",
    "numero_flotante"
   ]
  },
  {
   "cell_type": "code",
   "execution_count": 8,
   "id": "a35d08c7-d7ed-4961-b119-4fc6472ccd0f",
   "metadata": {},
   "outputs": [
    {
     "data": {
      "text/plain": [
       "(2+3j)"
      ]
     },
     "execution_count": 8,
     "metadata": {},
     "output_type": "execute_result"
    }
   ],
   "source": [
    "numero_complejo = 2 + 3j\n",
    "numero_complejo"
   ]
  },
  {
   "cell_type": "code",
   "execution_count": 9,
   "id": "b42b4f46-d06f-4918-b3ce-d24f7eb788ce",
   "metadata": {},
   "outputs": [
    {
     "data": {
      "text/plain": [
       "0.6666666666666666"
      ]
     },
     "execution_count": 9,
     "metadata": {},
     "output_type": "execute_result"
    }
   ],
   "source": [
    "2/3"
   ]
  },
  {
   "cell_type": "code",
   "execution_count": 10,
   "id": "98d00a8c-b763-452d-b2de-c499da170f1c",
   "metadata": {},
   "outputs": [
    {
     "data": {
      "text/plain": [
       "15"
      ]
     },
     "execution_count": 10,
     "metadata": {},
     "output_type": "execute_result"
    }
   ],
   "source": [
    "resultado = 10 +5 \n",
    "resultado"
   ]
  },
  {
   "cell_type": "code",
   "execution_count": 12,
   "id": "297633bc-af41-4a86-b099-c1232043d4c6",
   "metadata": {},
   "outputs": [
    {
     "data": {
      "text/plain": [
       "5"
      ]
     },
     "execution_count": 12,
     "metadata": {},
     "output_type": "execute_result"
    }
   ],
   "source": [
    "diferencia = 10-5\n",
    "diferencia"
   ]
  },
  {
   "cell_type": "code",
   "execution_count": 13,
   "id": "a9aba99a-53cf-4d52-a62a-4da060c3a7a5",
   "metadata": {},
   "outputs": [],
   "source": [
    "producto = 5 * 5"
   ]
  },
  {
   "cell_type": "code",
   "execution_count": 14,
   "id": "cccfd422-43d6-4844-9fd4-6d3c79bdeba9",
   "metadata": {},
   "outputs": [],
   "source": [
    "cocientes = 10 / 3"
   ]
  },
  {
   "cell_type": "code",
   "execution_count": 16,
   "id": "3a68fbc9-8b12-4e49-9b5d-740c292e03d7",
   "metadata": {},
   "outputs": [
    {
     "data": {
      "text/plain": [
       "1"
      ]
     },
     "execution_count": 16,
     "metadata": {},
     "output_type": "execute_result"
    }
   ],
   "source": [
    "modulo  =  10 % 3\n",
    "modulo"
   ]
  },
  {
   "cell_type": "code",
   "execution_count": 18,
   "id": "eb9211b5-bf62-4dcf-978c-88e972b31874",
   "metadata": {},
   "outputs": [
    {
     "data": {
      "text/plain": [
       "100"
      ]
     },
     "execution_count": 18,
     "metadata": {},
     "output_type": "execute_result"
    }
   ],
   "source": [
    "potencia = 10**2\n",
    "potencia"
   ]
  },
  {
   "cell_type": "markdown",
   "id": "3133b272-888c-42b5-a7c8-7851085ad23b",
   "metadata": {},
   "source": [
    "# Cadenas de caracteres"
   ]
  },
  {
   "cell_type": "code",
   "execution_count": 19,
   "id": "667f3305-0cf6-4dd6-8b26-9fbc817b3454",
   "metadata": {},
   "outputs": [
    {
     "name": "stdout",
     "output_type": "stream",
     "text": [
      "Hola, mundo!\n"
     ]
    }
   ],
   "source": [
    "cadena_simple = 'Hola, mundo!'\n",
    "print(cadena_simple)"
   ]
  },
  {
   "cell_type": "code",
   "execution_count": 20,
   "id": "87494021-e541-4eaf-8331-29dc53571b20",
   "metadata": {},
   "outputs": [
    {
     "name": "stdout",
     "output_type": "stream",
     "text": [
      "Hola, Python!\n"
     ]
    }
   ],
   "source": [
    "cadena_doble = \"Hola, Python!\"\n",
    "print(cadena_doble)"
   ]
  },
  {
   "cell_type": "code",
   "execution_count": 23,
   "id": "89e84819-9794-4264-947b-81c1258d8ddb",
   "metadata": {},
   "outputs": [
    {
     "name": "stdout",
     "output_type": "stream",
     "text": [
      "Hola Seminario\n"
     ]
    }
   ],
   "source": [
    "saludo = \"Hola\" + \" \" + \"Seminario\"\n",
    "print(saludo)"
   ]
  },
  {
   "cell_type": "code",
   "execution_count": 24,
   "id": "b94f32c8-850c-4dfd-8d68-17c334a91156",
   "metadata": {},
   "outputs": [
    {
     "data": {
      "text/plain": [
       "'Hola Seminario'"
      ]
     },
     "execution_count": 24,
     "metadata": {},
     "output_type": "execute_result"
    }
   ],
   "source": [
    "saludo"
   ]
  },
  {
   "cell_type": "code",
   "execution_count": 30,
   "id": "7326287b-7d42-47bb-9087-92d3035b7a4d",
   "metadata": {},
   "outputs": [
    {
     "name": "stdout",
     "output_type": "stream",
     "text": [
      "o\n"
     ]
    }
   ],
   "source": [
    "a = \"Hola\"\n",
    "\n",
    "print(a[1])"
   ]
  },
  {
   "cell_type": "code",
   "execution_count": 33,
   "id": "f669bf36-0424-4ce7-843c-fe4e594ea3d6",
   "metadata": {},
   "outputs": [
    {
     "name": "stdout",
     "output_type": "stream",
     "text": [
      "a, m\n"
     ]
    }
   ],
   "source": [
    "a = \"hola, mundooo!\"\n",
    "\n",
    "print(a[3:7]) # indice 3 terminando en el 7-1"
   ]
  },
  {
   "cell_type": "code",
   "execution_count": 32,
   "id": "a4b3813e-4da1-4abd-90de-9c5a6962c0ed",
   "metadata": {},
   "outputs": [
    {
     "name": "stdout",
     "output_type": "stream",
     "text": [
      "hol\n"
     ]
    }
   ],
   "source": [
    "print(a[0:3])"
   ]
  },
  {
   "cell_type": "code",
   "execution_count": 34,
   "id": "ade2e3cb-8983-4be8-9192-57fb49fecc34",
   "metadata": {},
   "outputs": [
    {
     "name": "stdout",
     "output_type": "stream",
     "text": [
      "l,mn\n"
     ]
    }
   ],
   "source": [
    "print(a[2:10:2])"
   ]
  },
  {
   "cell_type": "code",
   "execution_count": 38,
   "id": "c8fac082-cf31-46a9-849b-c2ae9fda8a53",
   "metadata": {},
   "outputs": [
    {
     "name": "stdout",
     "output_type": "stream",
     "text": [
      "hamdo\n"
     ]
    }
   ],
   "source": [
    "print(a[::3])"
   ]
  },
  {
   "cell_type": "code",
   "execution_count": 39,
   "id": "563821cc-3c9c-4865-bfe6-2e5688511fba",
   "metadata": {},
   "outputs": [
    {
     "name": "stdout",
     "output_type": "stream",
     "text": [
      "Hoza, clase!\n"
     ]
    }
   ],
   "source": [
    "a = \"Hola, clase!\"\n",
    "\n",
    "nueva_cadena = a.replace('l', 'z', 1)\n",
    "\n",
    "print(nueva_cadena)"
   ]
  },
  {
   "cell_type": "code",
   "execution_count": 41,
   "id": "b9b08868-015f-42b2-aec7-d06679856b25",
   "metadata": {},
   "outputs": [
    {
     "name": "stdout",
     "output_type": "stream",
     "text": [
      "Hoza, czase!\n"
     ]
    }
   ],
   "source": [
    "a = \"Hola, clase!\"\n",
    "\n",
    "nueva_cadena = a.replace(\"l\", \"z\")\n",
    "\n",
    "print(nueva_cadena)"
   ]
  },
  {
   "cell_type": "code",
   "execution_count": 45,
   "id": "7ac592c9-fcb0-4ff6-a26c-7694c14c3a87",
   "metadata": {},
   "outputs": [
    {
     "name": "stdout",
     "output_type": "stream",
     "text": [
      "Hoza, czase!\n"
     ]
    }
   ],
   "source": [
    "a = \"Hola, clase!\"\n",
    "\n",
    "a = a.replace(\"l\", \"z\")\n",
    "\n",
    "print(a)"
   ]
  },
  {
   "cell_type": "code",
   "execution_count": 46,
   "id": "092171e9-f814-49f3-858f-bf525a5bac60",
   "metadata": {},
   "outputs": [
    {
     "name": "stdout",
     "output_type": "stream",
     "text": [
      "Un entero: 1; un flotante; 0.100000; otra cadena: cadena\n"
     ]
    }
   ],
   "source": [
    "cadena = 'Un entero: %i; un flotante; %f; otra cadena: %s' % (1, 0.1, 'cadena')\n",
    "\n",
    "print(cadena)"
   ]
  },
  {
   "cell_type": "code",
   "execution_count": 53,
   "id": "863dc2e2-ac82-4887-a9e6-414d6a01f4db",
   "metadata": {},
   "outputs": [
    {
     "name": "stdout",
     "output_type": "stream",
     "text": [
      "procesamiento_del_dataset_102.txt\n"
     ]
    }
   ],
   "source": [
    "i = 102\n",
    "\n",
    "nombre_archivo = 'procesamiento_del_dataset_%d.txt' % i \n",
    "\n",
    "print(nombre_archivo)"
   ]
  },
  {
   "cell_type": "code",
   "execution_count": 55,
   "id": "df8f4d3d-598c-464b-8b67-8cbc8c9141f1",
   "metadata": {},
   "outputs": [
    {
     "name": "stdout",
     "output_type": "stream",
     "text": [
      "Hola, jueves! Hoy es Jia.\n"
     ]
    }
   ],
   "source": [
    "cadena = \"Hola, {1}! Hoy es {0}.\"\n",
    "mensaje = cadena.format(\"Jia\", \"jueves\")\n",
    "print(mensaje)"
   ]
  },
  {
   "cell_type": "code",
   "execution_count": 56,
   "id": "227b8799-9010-4260-ac08-19dbf98c55a9",
   "metadata": {},
   "outputs": [
    {
     "name": "stdout",
     "output_type": "stream",
     "text": [
      "Hola, Jia! Hoy es jueves.\n"
     ]
    }
   ],
   "source": [
    "cadena = \"Hola, {nombre}! Hoy es {dia}.\"\n",
    "\n",
    "mensaje = cadena.format(nombre=\"Jia\", dia=\"jueves\")\n",
    "\n",
    "print(mensaje)"
   ]
  },
  {
   "cell_type": "markdown",
   "id": "6cbe1e13-4c42-49b8-9cae-87d42ec49f6d",
   "metadata": {},
   "source": [
    "# Listas"
   ]
  },
  {
   "cell_type": "code",
   "execution_count": 58,
   "id": "f5903167-9f64-469a-8089-3663af9b90a7",
   "metadata": {},
   "outputs": [
    {
     "name": "stdout",
     "output_type": "stream",
     "text": [
      "[1, 2, 3, 'cuatro', 5.0]\n"
     ]
    }
   ],
   "source": [
    "mi_lista = [1, 2, 3, 'cuatro', 5.0]\n",
    "print(mi_lista)"
   ]
  },
  {
   "cell_type": "code",
   "execution_count": 61,
   "id": "d882488c-8f5e-4b91-84d8-efe606933caa",
   "metadata": {},
   "outputs": [
    {
     "data": {
      "text/plain": [
       "5.0"
      ]
     },
     "execution_count": 61,
     "metadata": {},
     "output_type": "execute_result"
    }
   ],
   "source": [
    "primer_elemento = mi_lista[-1]\n",
    "primer_elemento"
   ]
  },
  {
   "cell_type": "code",
   "execution_count": 62,
   "id": "47206a4d-2891-4f2e-b64f-7147a6ae20c7",
   "metadata": {},
   "outputs": [
    {
     "data": {
      "text/plain": [
       "[1, 2, 3, 'cuatro', 5.0, 6]"
      ]
     },
     "execution_count": 62,
     "metadata": {},
     "output_type": "execute_result"
    }
   ],
   "source": [
    "mi_lista.append(6)\n",
    "mi_lista"
   ]
  },
  {
   "cell_type": "code",
   "execution_count": 63,
   "id": "975d48a9-7ebe-4860-9ee2-31bbd07f93b2",
   "metadata": {},
   "outputs": [
    {
     "name": "stdout",
     "output_type": "stream",
     "text": [
      "[1, 2, 3, 'cuatro', 5.0, 6, [7, 8, 9]]\n"
     ]
    }
   ],
   "source": [
    "mi_lista.append([7,8,9])\n",
    "print(mi_lista)"
   ]
  },
  {
   "cell_type": "code",
   "execution_count": 64,
   "id": "a5f548ac-a9ea-4676-b1bc-e7372e53ced6",
   "metadata": {},
   "outputs": [
    {
     "name": "stdout",
     "output_type": "stream",
     "text": [
      "[1, 2, 3, 'cuatro', 5.0, 6, [7, 8, 9], 10, 11, 12]\n"
     ]
    }
   ],
   "source": [
    "mi_lista.extend([10,11,12])\n",
    "print(mi_lista)"
   ]
  },
  {
   "cell_type": "code",
   "execution_count": 65,
   "id": "6bcadb5d-c7e1-4c5a-b5ec-1ed4a8ad4b15",
   "metadata": {},
   "outputs": [
    {
     "name": "stdout",
     "output_type": "stream",
     "text": [
      "[1, 2, 3, 5.0, 6, [7, 8, 9], 10, 11, 12]\n"
     ]
    }
   ],
   "source": [
    "del mi_lista[3]\n",
    "\n",
    "print(mi_lista)"
   ]
  },
  {
   "cell_type": "code",
   "execution_count": 66,
   "id": "0920a9ae-3667-421a-b58f-e52b1251f265",
   "metadata": {},
   "outputs": [
    {
     "name": "stdout",
     "output_type": "stream",
     "text": [
      "[1, 2, 5.0, 6, [7, 8, 9], 10, 11, 12]\n"
     ]
    }
   ],
   "source": [
    "mi_lista.remove(3)\n",
    "print(mi_lista)"
   ]
  },
  {
   "cell_type": "code",
   "execution_count": 67,
   "id": "4f13d9ba-2156-4f57-8fb2-90486cd4b696",
   "metadata": {},
   "outputs": [
    {
     "name": "stdout",
     "output_type": "stream",
     "text": [
      "[1, 2, 3, 4, 5, 6]\n"
     ]
    }
   ],
   "source": [
    "lista1 = [1,2,3]\n",
    "lista2 = [4,5,6]\n",
    "\n",
    "nueva_lista = lista1 + lista2\n",
    "\n",
    "print(nueva_lista)"
   ]
  },
  {
   "cell_type": "code",
   "execution_count": 68,
   "id": "4beeb695-2583-4184-9297-3788c35bac72",
   "metadata": {},
   "outputs": [
    {
     "name": "stdout",
     "output_type": "stream",
     "text": [
      "[1, 2, 3, 4, 5, 6]\n"
     ]
    }
   ],
   "source": [
    "print(lista1 + lista2)"
   ]
  },
  {
   "cell_type": "code",
   "execution_count": 69,
   "id": "0a4636c3-93fb-4fc9-8c0e-42291a2759e6",
   "metadata": {},
   "outputs": [
    {
     "name": "stdout",
     "output_type": "stream",
     "text": [
      "['rojo', 'verde', 'azul', 'rojo', 'verde', 'azul', 'rojo', 'verde', 'azul']\n"
     ]
    }
   ],
   "source": [
    "colores = ['rojo', 'verde', 'azul']\n",
    "\n",
    "colores_repetidos = colores * 3\n",
    "\n",
    "print(colores_repetidos)"
   ]
  },
  {
   "cell_type": "code",
   "execution_count": 71,
   "id": "787bfeae-afa1-4386-8966-1c198b1b3378",
   "metadata": {},
   "outputs": [
    {
     "name": "stdout",
     "output_type": "stream",
     "text": [
      "['verde', 'rojo', 'naranja', 'morado', 'azul', 'amarillo']\n"
     ]
    }
   ],
   "source": [
    "colores = ['rojo', 'verde', 'azul', 'amarillo', 'naranja', 'morado']\n",
    "\n",
    "colores.sort(reverse = True)\n",
    "\n",
    "print(colores)"
   ]
  },
  {
   "cell_type": "code",
   "execution_count": 72,
   "id": "c2d37964-35ae-40ab-801e-e59286253230",
   "metadata": {},
   "outputs": [
    {
     "data": {
      "text/plain": [
       "['amarillo', 'azul', 'morado', 'naranja', 'rojo', 'verde']"
      ]
     },
     "execution_count": 72,
     "metadata": {},
     "output_type": "execute_result"
    }
   ],
   "source": [
    "colores = ['rojo', 'verde', 'azul', 'amarillo', 'naranja', 'morado']\n",
    "\n",
    "sorted(colores)"
   ]
  },
  {
   "cell_type": "code",
   "execution_count": 73,
   "id": "9b28b038-4298-4e20-a8bb-14fe7cbc1ace",
   "metadata": {},
   "outputs": [
    {
     "data": {
      "text/plain": [
       "['rojo', 'verde', 'azul', 'amarillo', 'naranja', 'morado']"
      ]
     },
     "execution_count": 73,
     "metadata": {},
     "output_type": "execute_result"
    }
   ],
   "source": [
    "colores"
   ]
  },
  {
   "cell_type": "code",
   "execution_count": 74,
   "id": "87af2c8c-a8e4-4057-a68b-60c1725c4f57",
   "metadata": {},
   "outputs": [
    {
     "data": {
      "text/plain": [
       "['verde', 'azul', 'amarillo']"
      ]
     },
     "execution_count": 74,
     "metadata": {},
     "output_type": "execute_result"
    }
   ],
   "source": [
    "colores[1:4]"
   ]
  },
  {
   "cell_type": "code",
   "execution_count": 75,
   "id": "4436ccfc-a327-4af1-8324-6c5e26e09bdb",
   "metadata": {},
   "outputs": [
    {
     "data": {
      "text/plain": [
       "['rojo', 'azul', 'naranja']"
      ]
     },
     "execution_count": 75,
     "metadata": {},
     "output_type": "execute_result"
    }
   ],
   "source": [
    "colores[::2]"
   ]
  },
  {
   "cell_type": "code",
   "execution_count": 76,
   "id": "3461a017-44b3-4f53-8df3-a2343aa35d25",
   "metadata": {},
   "outputs": [
    {
     "data": {
      "text/plain": [
       "['morado', 'naranja', 'amarillo', 'azul', 'verde', 'rojo']"
      ]
     },
     "execution_count": 76,
     "metadata": {},
     "output_type": "execute_result"
    }
   ],
   "source": [
    "colores[::-1]"
   ]
  },
  {
   "cell_type": "code",
   "execution_count": 92,
   "id": "84f7cd73-dc6f-4026-9d48-6a3f025a9d23",
   "metadata": {},
   "outputs": [
    {
     "data": {
      "text/plain": [
       "[2, 1, 4, 3, 6, 5, 8, 7]"
      ]
     },
     "execution_count": 92,
     "metadata": {},
     "output_type": "execute_result"
    }
   ],
   "source": [
    "# Ejercicio 1\n",
    "\n",
    "lista = [1, 2, 3, 4, 5,6,7,8]\n",
    "\n",
    "pares = lista[:-1:2]\n",
    "\n",
    "impares = lista[1::2]\n",
    "\n",
    "lista[:-1:2] = impares\n",
    "lista[1::2] = pares\n",
    "\n",
    "lista"
   ]
  },
  {
   "cell_type": "code",
   "execution_count": 103,
   "id": "70223a24-252e-4a68-9e93-859fe9a4bb83",
   "metadata": {},
   "outputs": [
    {
     "data": {
      "text/plain": [
       "[1, 3, 5, 7]"
      ]
     },
     "execution_count": 103,
     "metadata": {},
     "output_type": "execute_result"
    }
   ],
   "source": [
    "lista = [1, 2, 3, 4, 5,6,7]\n",
    "lista[::2]"
   ]
  },
  {
   "cell_type": "code",
   "execution_count": 83,
   "id": "43947d32-b7df-49d6-9b3e-405df3d834fd",
   "metadata": {},
   "outputs": [
    {
     "data": {
      "text/plain": [
       "[2, 4, 6]"
      ]
     },
     "execution_count": 83,
     "metadata": {},
     "output_type": "execute_result"
    }
   ],
   "source": [
    "lista[1::2]"
   ]
  }
 ],
 "metadata": {
  "kernelspec": {
   "display_name": "Python 3 (ipykernel)",
   "language": "python",
   "name": "python3"
  },
  "language_info": {
   "codemirror_mode": {
    "name": "ipython",
    "version": 3
   },
   "file_extension": ".py",
   "mimetype": "text/x-python",
   "name": "python",
   "nbconvert_exporter": "python",
   "pygments_lexer": "ipython3",
   "version": "3.10.10"
  }
 },
 "nbformat": 4,
 "nbformat_minor": 5
}
